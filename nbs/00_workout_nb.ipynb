{
 "cells": [
  {
   "cell_type": "markdown",
   "metadata": {},
   "source": [
    "# workout_nb\n",
    "\n",
    "> Workout tracking notebook"
   ]
  },
  {
   "cell_type": "code",
   "execution_count": null,
   "metadata": {},
   "outputs": [],
   "source": [
    "#| default_exp workout_nb"
   ]
  },
  {
   "cell_type": "code",
   "execution_count": null,
   "metadata": {},
   "outputs": [],
   "source": [
    "#| hide\n",
    "\n",
    "%load_ext autoreload\n",
    "%autoreload 2\n",
    "\n",
    "from nbdev.showdoc import *"
   ]
  },
  {
   "cell_type": "code",
   "execution_count": null,
   "metadata": {},
   "outputs": [],
   "source": [
    "#| export\n",
    "class Workout_NB:\n",
    "    \"Create/use a workout tracking notebook\"\n",
    "    def __init__(self):\n",
    "        print(\"stuff\")\n"
   ]
  },
  {
   "cell_type": "code",
   "execution_count": null,
   "metadata": {},
   "outputs": [
    {
     "name": "stdout",
     "output_type": "stream",
     "text": [
      "stuff\n"
     ]
    }
   ],
   "source": [
    "wnb = Workout_NB()"
   ]
  },
  {
   "cell_type": "code",
   "execution_count": null,
   "metadata": {},
   "outputs": [],
   "source": [
    "#| hide\n",
    "import nbdev; nbdev.nbdev_export()"
   ]
  },
  {
   "cell_type": "markdown",
   "metadata": {},
   "source": [
    "# next steps\n",
    "\n",
    "* decide on which spreadsheet to use: mito or ipydatagrid\n",
    "* decide how to store data\n",
    "* review [spreadsheet switch doc](https://medium.datadriveninvestor.com/switching-from-spreadsheet-to-jupyter-notebook-1-92364c55e379)\n",
    "* build class to represent exercise\n",
    "* build class to represent set of exercises with params\n",
    "* build class to represent set of exercises with params done at time on date\n"
   ]
  }
 ],
 "metadata": {
  "kernelspec": {
   "display_name": "Python 3 (ipykernel)",
   "language": "python",
   "name": "python3"
  }
 },
 "nbformat": 4,
 "nbformat_minor": 4
}
